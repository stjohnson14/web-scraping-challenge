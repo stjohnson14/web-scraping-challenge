{
 "cells": [
  {
   "cell_type": "code",
   "execution_count": 1,
   "id": "e242344c-881e-424c-ab38-5780ce06c668",
   "metadata": {},
   "outputs": [],
   "source": [
    "from bs4 import BeautifulSoup as soup\n",
    "import requests\n",
    "from splinter import Browser\n",
    "from webdriver_manager.chrome import ChromeDriverManager"
   ]
  },
  {
   "cell_type": "code",
   "execution_count": 2,
   "id": "df28905e-d155-4458-896d-838b0afa14ab",
   "metadata": {},
   "outputs": [],
   "source": [
    "url = 'https://redplanetscience.com/'"
   ]
  },
  {
   "cell_type": "code",
   "execution_count": 3,
   "id": "cf48993d-e180-44a2-ba9e-cc0849e7325b",
   "metadata": {},
   "outputs": [
    {
     "name": "stderr",
     "output_type": "stream",
     "text": [
      "\n",
      "\n",
      "====== WebDriver manager ======\n",
      "Current google-chrome version is 92.0.4515\n",
      "Get LATEST driver version for 92.0.4515\n",
      "Get LATEST driver version for 92.0.4515\n",
      "Trying to download new driver from https://chromedriver.storage.googleapis.com/92.0.4515.107/chromedriver_win32.zip\n",
      "Driver has been saved in cache [C:\\Users\\stefa\\.wdm\\drivers\\chromedriver\\win32\\92.0.4515.107]\n"
     ]
    }
   ],
   "source": [
    "executable_path = {'executable_path': ChromeDriverManager().install()}\n",
    "browser = Browser('chrome', **executable_path, headless=False)"
   ]
  },
  {
   "cell_type": "code",
   "execution_count": 9,
   "id": "9f780079-e5fc-437e-a743-2d452661ca83",
   "metadata": {},
   "outputs": [],
   "source": [
    "# soup = BeautifulSoup(response.text, 'html.parser')\n",
    "# print(soup.prettify())\n",
    "\n",
    "browser.visit(url)"
   ]
  },
  {
   "cell_type": "code",
   "execution_count": 28,
   "id": "d779d009-40cb-4fd7-b18e-8264244b2af9",
   "metadata": {},
   "outputs": [],
   "source": [
    "browser.is_element_present_by_css('div.list_text', wait_time=1)\n",
    "html = browser.html\n",
    "news_soup = soup(html, 'html.parser')"
   ]
  },
  {
   "cell_type": "code",
   "execution_count": 27,
   "id": "a9f4621d-6c19-4d54-9f9a-12601689d245",
   "metadata": {},
   "outputs": [],
   "source": [
    "latest_title = news_soup.find_all('div', class_='content_title')[0].text\n",
    "latest_p = news_soup.find_all('div', class_='article_teaser_body')[0].text"
   ]
  },
  {
   "cell_type": "code",
   "execution_count": 35,
   "id": "1793fc96-61a2-4ff0-a4fe-9e6107bd9fd1",
   "metadata": {},
   "outputs": [],
   "source": [
    "url2 = 'https://spaceimages-mars.com'\n",
    "browser.visit(url2)\n",
    "html2 = browser.html"
   ]
  },
  {
   "cell_type": "code",
   "execution_count": 53,
   "id": "1c43bfd1-0777-47ff-84ec-7a06ef547d76",
   "metadata": {},
   "outputs": [],
   "source": [
    "space_soup = soup(html2, 'html.parser')\n",
    "\n",
    "featured_image_url = 'https://spaceimages-mars.com/image/featured/mars1.jpg'\n"
   ]
  },
  {
   "cell_type": "code",
   "execution_count": null,
   "id": "83082648-7396-4c60-b2b7-9529043e4af3",
   "metadata": {},
   "outputs": [],
   "source": []
  },
  {
   "cell_type": "code",
   "execution_count": null,
   "id": "384e0732-545a-4404-bbaa-1096c80f249e",
   "metadata": {},
   "outputs": [],
   "source": []
  },
  {
   "cell_type": "code",
   "execution_count": null,
   "id": "9992961e-f439-4304-8ebb-48d660ef8396",
   "metadata": {},
   "outputs": [],
   "source": []
  },
  {
   "cell_type": "code",
   "execution_count": null,
   "id": "6b4eb727-3460-459a-9c09-78693b391dd4",
   "metadata": {},
   "outputs": [],
   "source": []
  },
  {
   "cell_type": "code",
   "execution_count": null,
   "id": "9784435e-ae93-44b5-98c9-1e18eda823a7",
   "metadata": {},
   "outputs": [],
   "source": []
  },
  {
   "cell_type": "code",
   "execution_count": null,
   "id": "45c82855-25ae-4631-8fea-b689d143ac97",
   "metadata": {},
   "outputs": [],
   "source": []
  },
  {
   "cell_type": "code",
   "execution_count": null,
   "id": "7725f9e4-e581-49ed-b3c4-b912f34271e9",
   "metadata": {},
   "outputs": [],
   "source": []
  },
  {
   "cell_type": "code",
   "execution_count": null,
   "id": "1607d4fd-4f54-4aed-a9f8-b4534d6f2cd1",
   "metadata": {},
   "outputs": [],
   "source": []
  },
  {
   "cell_type": "code",
   "execution_count": null,
   "id": "b1820c62-0741-4c4e-96ba-f8649592d679",
   "metadata": {},
   "outputs": [],
   "source": []
  },
  {
   "cell_type": "code",
   "execution_count": null,
   "id": "795b8996-16df-4e28-8fa2-f9a1154025e4",
   "metadata": {},
   "outputs": [],
   "source": []
  }
 ],
 "metadata": {
  "kernelspec": {
   "display_name": "Python 3",
   "language": "python",
   "name": "python3"
  },
  "language_info": {
   "codemirror_mode": {
    "name": "ipython",
    "version": 3
   },
   "file_extension": ".py",
   "mimetype": "text/x-python",
   "name": "python",
   "nbconvert_exporter": "python",
   "pygments_lexer": "ipython3",
   "version": "3.8.8"
  }
 },
 "nbformat": 4,
 "nbformat_minor": 5
}
